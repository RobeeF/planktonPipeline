{
 "cells": [
  {
   "cell_type": "markdown",
   "metadata": {},
   "source": [
    "# Image classification using Deep Learning"
   ]
  },
  {
   "cell_type": "code",
   "execution_count": 15,
   "metadata": {},
   "outputs": [],
   "source": [
    "import os\n",
    "os.chdir('W:/Documents/GitHub/planktonPipeline')\n",
    "\n",
    "from keras_utils import plot_losses, img_cnn\n",
    "from sklearn.metrics import classification_report\n",
    "from extract_imgs.get_imgs import get_imgs_data\n",
    "import random\n",
    "import numpy as np\n",
    "\n",
    "from imblearn.under_sampling import RandomUnderSampler\n",
    "from sklearn.metrics import confusion_matrix\n",
    "\n",
    "\n",
    "listmodes_path = \"W:/Bureau/these/donnees_oceano/Newprocess_20190729_FLR25\"\n",
    "imgs_dirs_path = \"C:/Users/RFuchs/Telechargement\""
   ]
  },
  {
   "cell_type": "markdown",
   "metadata": {},
   "source": [
    "## Fetching the images into RAM"
   ]
  },
  {
   "cell_type": "code",
   "execution_count": 4,
   "metadata": {},
   "outputs": [
    {
     "name": "stdout",
     "output_type": "stream",
     "text": [
      "FUMSECK-FLR25 2019-04-30 12h18_Default (all)_Images\n",
      "FUMSECK-FLR25 2019-04-30 16h46_Default (all)_Images\n",
      "FUMSECK-FLR25 2019-05-02 06h19_Default (all)_Images\n",
      "FUMSECK-FLR25 2019-05-05 23h59_Default (all)_Images\n",
      "FUMSECK-FLR25 2019-05-07 03h39_Default (all)_Images\n",
      "FUMSECK-FLR25 2019-05-07 05h39_Default (all)_Images\n",
      "['noise', 'cryptophytes', 'microphytoplancton']\n"
     ]
    }
   ],
   "source": [
    "X, y, pid_list, le = get_imgs_data(listmodes_path, imgs_dirs_path)\n",
    "cluster_classes = le.classes_\n",
    "pid_list = np.array(pid_list)"
   ]
  },
  {
   "cell_type": "markdown",
   "metadata": {},
   "source": [
    "Images are avalaible only for 3 classes...\n",
    "\n",
    "And there are very few of them"
   ]
  },
  {
   "cell_type": "markdown",
   "metadata": {},
   "source": [
    "## Rebalance the dataset and delete the airbubbles (because there are only 4 of them)"
   ]
  },
  {
   "cell_type": "code",
   "execution_count": 7,
   "metadata": {},
   "outputs": [],
   "source": [
    "airbubbles_indices= np.array([np.argmax(x) for x in y]) == 1\n",
    "X, y, pid_list = X[airbubbles_indices != True], y[airbubbles_indices != True], pid_list[airbubbles_indices != True]\n",
    "\n",
    "rus = RandomUnderSampler()\n",
    "indices = np.reshape(range(len(X)), (-1,1))\n",
    "indices_resampled, y_resampled = rus.fit_sample(indices, y)\n",
    "X_resampled, y_resampled, pid_resampled = X[indices_resampled,:][:, 0, : , :], y[indices_resampled][:, 0, :], pid_list[indices_resampled][:, 0] # Dirty indexing..."
   ]
  },
  {
   "cell_type": "markdown",
   "metadata": {},
   "source": [
    "## Splitting the data between training and validation sets"
   ]
  },
  {
   "cell_type": "code",
   "execution_count": 8,
   "metadata": {},
   "outputs": [],
   "source": [
    "train_size = int(len(y_resampled) * (2/3))\n",
    "indices = random.sample(range(len(y_resampled)), train_size)\n",
    "X_train, X_valid = X_resampled[indices], X_resampled[list(set(range(len(y_resampled))) - set(indices))] \n",
    "y_train, y_valid = y_resampled[indices], y_resampled[list(set(range(len(y_resampled))) - set(indices))]\n",
    "pid_list_train, pid_list_valid = pid_resampled[indices], pid_resampled[list(set(range(len(y_resampled))) - set(indices))]"
   ]
  },
  {
   "cell_type": "markdown",
   "metadata": {},
   "source": [
    "## Training a CNN"
   ]
  },
  {
   "cell_type": "code",
   "execution_count": 9,
   "metadata": {},
   "outputs": [
    {
     "name": "stderr",
     "output_type": "stream",
     "text": [
      "WARNING: Logging before flag parsing goes to stderr.\n",
      "W0823 16:09:43.752150  1452 deprecation_wrapper.py:119] From L:\\ProgramData\\Anaconda\\lib\\site-packages\\keras\\backend\\tensorflow_backend.py:74: The name tf.get_default_graph is deprecated. Please use tf.compat.v1.get_default_graph instead.\n",
      "\n",
      "W0823 16:09:43.766082  1452 deprecation_wrapper.py:119] From L:\\ProgramData\\Anaconda\\lib\\site-packages\\keras\\backend\\tensorflow_backend.py:517: The name tf.placeholder is deprecated. Please use tf.compat.v1.placeholder instead.\n",
      "\n",
      "W0823 16:09:43.769074  1452 deprecation_wrapper.py:119] From L:\\ProgramData\\Anaconda\\lib\\site-packages\\keras\\backend\\tensorflow_backend.py:4138: The name tf.random_uniform is deprecated. Please use tf.random.uniform instead.\n",
      "\n",
      "W0823 16:09:43.791043  1452 deprecation_wrapper.py:119] From L:\\ProgramData\\Anaconda\\lib\\site-packages\\keras\\backend\\tensorflow_backend.py:3976: The name tf.nn.max_pool is deprecated. Please use tf.nn.max_pool2d instead.\n",
      "\n",
      "W0823 16:09:43.829939  1452 deprecation_wrapper.py:119] From L:\\ProgramData\\Anaconda\\lib\\site-packages\\keras\\optimizers.py:790: The name tf.train.Optimizer is deprecated. Please use tf.compat.v1.train.Optimizer instead.\n",
      "\n",
      "W0823 16:09:43.849894  1452 deprecation_wrapper.py:119] From L:\\ProgramData\\Anaconda\\lib\\site-packages\\keras\\backend\\tensorflow_backend.py:3295: The name tf.log is deprecated. Please use tf.math.log instead.\n",
      "\n",
      "W0823 16:09:43.927445  1452 deprecation.py:323] From L:\\ProgramData\\Anaconda\\lib\\site-packages\\tensorflow\\python\\ops\\math_grad.py:1250: add_dispatch_support.<locals>.wrapper (from tensorflow.python.ops.array_ops) is deprecated and will be removed in a future version.\n",
      "Instructions for updating:\n",
      "Use tf.where in 2.0, which has the same broadcast rule as np.where\n",
      "W0823 16:09:43.993583  1452 deprecation_wrapper.py:119] From L:\\ProgramData\\Anaconda\\lib\\site-packages\\keras\\backend\\tensorflow_backend.py:986: The name tf.assign_add is deprecated. Please use tf.compat.v1.assign_add instead.\n",
      "\n"
     ]
    },
    {
     "name": "stdout",
     "output_type": "stream",
     "text": [
      "Train on 257 samples, validate on 129 samples\n",
      "Epoch 1/10\n",
      "9/9 [==============================] - 2s 224ms/step - loss: 0.7863 - acc: 0.4712 - val_loss: 0.6843 - val_acc: 0.5426\n",
      "Epoch 2/10\n",
      "9/9 [==============================] - 1s 165ms/step - loss: 0.6882 - acc: 0.5374 - val_loss: 0.6807 - val_acc: 0.5891\n",
      "Epoch 3/10\n",
      "9/9 [==============================] - 1s 166ms/step - loss: 0.6777 - acc: 0.5716 - val_loss: 0.6785 - val_acc: 0.6357\n",
      "Epoch 4/10\n",
      "9/9 [==============================] - 1s 165ms/step - loss: 0.6693 - acc: 0.6031 - val_loss: 0.6798 - val_acc: 0.5659\n",
      "Epoch 5/10\n",
      "9/9 [==============================] - 1s 165ms/step - loss: 0.6619 - acc: 0.6468 - val_loss: 0.6833 - val_acc: 0.5349\n",
      "Epoch 6/10\n",
      "9/9 [==============================] - 1s 166ms/step - loss: 0.6547 - acc: 0.6675 - val_loss: 0.6736 - val_acc: 0.6047\n",
      "Epoch 7/10\n",
      "9/9 [==============================] - 1s 165ms/step - loss: 0.6477 - acc: 0.6861 - val_loss: 0.6715 - val_acc: 0.6202\n",
      "Epoch 8/10\n",
      "9/9 [==============================] - 1s 163ms/step - loss: 0.6407 - acc: 0.6943 - val_loss: 0.6700 - val_acc: 0.6047\n",
      "Epoch 9/10\n",
      "9/9 [==============================] - 1s 164ms/step - loss: 0.6354 - acc: 0.6844 - val_loss: 0.6554 - val_acc: 0.6279\n",
      "Epoch 10/10\n",
      "9/9 [==============================] - 1s 165ms/step - loss: 0.6323 - acc: 0.6697 - val_loss: 0.6765 - val_acc: 0.5659\n"
     ]
    }
   ],
   "source": [
    "model = img_cnn(X_resampled, y_resampled)\n",
    "\n",
    "batch_size = 32\n",
    "STEP_SIZE_TRAIN = (len(X_train) // batch_size) + 1 \n",
    "STEP_SIZE_VALID = (len(X_valid) // batch_size) + 1 \n",
    "\n",
    "history = model.fit(X_train, y_train, validation_data=(X_valid, y_valid), steps_per_epoch = STEP_SIZE_TRAIN, epochs = 10, validation_steps = STEP_SIZE_VALID)"
   ]
  },
  {
   "cell_type": "markdown",
   "metadata": {},
   "source": [
    "## Evaluate the model"
   ]
  },
  {
   "cell_type": "code",
   "execution_count": 10,
   "metadata": {},
   "outputs": [
    {
     "data": {
      "image/png": "[encoded data removed]",
      "text/plain": [
       "<Figure size 432x288 with 1 Axes>"
      ]
     },
     "metadata": {
      "needs_background": "light"
     },
     "output_type": "display_data"
    },
    {
     "data": {
      "image/png": "[encoded data removed]",
      "text/plain": [
       "<Figure size 432x288 with 1 Axes>"
      ]
     },
     "metadata": {
      "needs_background": "light"
     },
     "output_type": "display_data"
    }
   ],
   "source": [
    "plot_losses(history)"
   ]
  },
  {
   "cell_type": "markdown",
   "metadata": {},
   "source": [
    "The model seems well fitted since epoch 7"
   ]
  },
  {
   "cell_type": "code",
   "execution_count": 11,
   "metadata": {},
   "outputs": [
    {
     "name": "stdout",
     "output_type": "stream",
     "text": [
      "              precision    recall  f1-score   support\n",
      "\n",
      "           0       0.52      0.80      0.63        59\n",
      "           2       0.68      0.37      0.48        70\n",
      "\n",
      "    accuracy                           0.57       129\n",
      "   macro avg       0.60      0.58      0.55       129\n",
      "weighted avg       0.61      0.57      0.55       129\n",
      "\n"
     ]
    }
   ],
   "source": [
    "preds = model.predict(X_valid)\n",
    "y_pred = np.array([np.argmax(x) for x in preds])\n",
    "y_true = np.array([np.argmax(x) for x in y_valid])\n",
    "print(classification_report(y_true, y_pred))"
   ]
  },
  {
   "cell_type": "code",
   "execution_count": 13,
   "metadata": {},
   "outputs": [
    {
     "name": "stdout",
     "output_type": "stream",
     "text": [
      "Number of training observations:  257\n"
     ]
    }
   ],
   "source": [
    "print('Number of training observations: ', train_size)"
   ]
  },
  {
   "cell_type": "markdown",
   "metadata": {},
   "source": [
    "Results are pretty bad because of the very low number of training observations"
   ]
  },
  {
   "cell_type": "code",
   "execution_count": 21,
   "metadata": {},
   "outputs": [
    {
     "data": {
      "text/plain": [
       "array([[47, 12],\n",
       "       [44, 26]], dtype=int64)"
      ]
     },
     "execution_count": 21,
     "metadata": {},
     "output_type": "execute_result"
    }
   ],
   "source": [
    "confusion_matrix(y_true, y_pred, labels=[0, 2])"
   ]
  },
  {
   "cell_type": "markdown",
   "metadata": {},
   "source": [
    "Many noise particles are classified as being cryptophytes"
   ]
  }
 ],
 "metadata": {
  "kernelspec": {
   "display_name": "Python 3",
   "language": "python",
   "name": "python3"
  },
  "language_info": {
   "codemirror_mode": {
    "name": "ipython",
    "version": 3
   },
   "file_extension": ".py",
   "mimetype": "text/x-python",
   "name": "python",
   "nbconvert_exporter": "python",
   "pygments_lexer": "ipython3",
   "version": "3.6.5"
  }
 },
 "nbformat": 4,
 "nbformat_minor": 2
}
