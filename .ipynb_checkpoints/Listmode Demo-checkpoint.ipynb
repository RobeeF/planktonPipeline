{
 "cells": [
  {
   "cell_type": "markdown",
   "metadata": {},
   "source": [
    "# Supervised learning on Listmode data"
   ]
  },
  {
   "cell_type": "code",
   "execution_count": null,
   "metadata": {},
   "outputs": [],
   "source": [
    "import os \n",
    "from collections import Counter\n",
    "import pandas as pd\n",
    "#import numpy as np \n",
    "from sklearn.metrics import classification_report\n",
    "from sklearn.preprocessing import LabelEncoder\n",
    "#from sklearn.model_selection import train_test_split\n",
    "from sklearn.metrics import accuracy_score\n",
    "from sklearn.ensemble import RandomForestClassifier\n",
    "#from imblearn.over_sampling import SMOTE \n",
    "from imblearn.under_sampling import RandomUnderSampler\n",
    "from sklearn.model_selection import GridSearchCV\n",
    "\n",
    "\n",
    "# The directory in which you have placed the following code\n",
    "os.chdir('W:/Bureau/these/planktonPipeline/extract_Listmode')\n",
    "\n",
    "from from_cytoclus_to_files import extract_features\n",
    "from from_files_to_clusters import particle_clustering\n",
    "\n",
    "\n",
    "# Where to look the data at and where to write treated data: Change with yours\n",
    "data_source = 'W:/Bureau/these/donnees_oceano/old_process_FLR6'\n",
    "data_destination = 'W:/Bureau/these/data'\n",
    "\n",
    "seed = 42"
   ]
  },
  {
   "cell_type": "code",
   "execution_count": null,
   "metadata": {},
   "outputs": [],
   "source": [
    "extract_features(data_source, data_destination, flr_num = 6)"
   ]
  },
  {
   "cell_type": "markdown",
   "metadata": {},
   "source": [
    "## Train a supervised RandomForest on the features"
   ]
  },
  {
   "cell_type": "markdown",
   "metadata": {},
   "source": [
    "### Using classical undersampling"
   ]
  },
  {
   "cell_type": "markdown",
   "metadata": {},
   "source": [
    "Building the the training and testing sets (2/3 of the whole dataset) used to determine the best model by cross-validation."
   ]
  },
  {
   "cell_type": "code",
   "execution_count": 6,
   "metadata": {},
   "outputs": [
    {
     "name": "stdout",
     "output_type": "stream",
     "text": [
      "Resampled dataset shape Counter({'cryptophytes': 77, 'microphytoplancton': 77, 'nanoeucaryote': 77, 'noise': 77, 'picoeucaryote': 77, 'prochlorococcus': 77, 'synechococcus': 77})\n"
     ]
    }
   ],
   "source": [
    "files_titles = os.listdir(data_destination + '/features')\n",
    "train_valid = pd.DataFrame()\n",
    "for i in range(int(len(files_titles)*2/3)):\n",
    "    df = pd.read_csv(data_destination + '/features/' + files_titles[i], sep = ',', engine = 'python')\n",
    "    train_valid = train_valid.append(df)\n",
    "\n",
    "train_valid.set_index(['Particle ID', 'date'], inplace = True)\n",
    "train_valid = train_valid.dropna(how = 'any')\n",
    "\n",
    "X_train_valid = train.iloc[:, :-1]\n",
    "y_train_valid = train.iloc[:, -1]\n",
    "        \n",
    "## Label Encoding: Turns the labels into numbers\n",
    "le = LabelEncoder()\n",
    "le.fit(list(set(y_train_valid)))\n",
    "y_train = le.transform(y_train_valid)\n",
    "\n",
    "rus = RandomUnderSampler(random_state = seed)\n",
    "X_train_valid, y_train_valid = rus.fit_sample(X_train_valid, y_train_valid)\n",
    "\n",
    "#sm = SMOTE(random_state = seed)\n",
    "#X_res, y_res = sm.fit_sample(X, y)\n",
    "print('Resampled dataset shape %s' % Counter(y_train_valid))"
   ]
  },
  {
   "cell_type": "markdown",
   "metadata": {},
   "source": [
    "Finding the best tuning for the Random Forest"
   ]
  },
  {
   "cell_type": "code",
   "execution_count": 3,
   "metadata": {},
   "outputs": [
    {
     "data": {
      "text/plain": [
       "RandomForestClassifier(bootstrap=True, class_weight=None, criterion='gini',\n",
       "            max_depth=6, max_features='auto', max_leaf_nodes=None,\n",
       "            min_impurity_decrease=0.0, min_impurity_split=None,\n",
       "            min_samples_leaf=1, min_samples_split=2,\n",
       "            min_weight_fraction_leaf=0.0, n_estimators=500, n_jobs=1,\n",
       "            oob_score=False, random_state=None, verbose=0,\n",
       "            warm_start=False)"
      ]
     },
     "execution_count": 3,
     "metadata": {},
     "output_type": "execute_result"
    }
   ],
   "source": [
    "rf = RandomForestClassifier(random_state = 0, n_jobs = -1)\n",
    "\n",
    "param_grid = { \n",
    "    'n_estimators': [200, 500],\n",
    "    'max_features': ['auto', 'sqrt', 'log2'],\n",
    "    'max_depth' : [4,5,6,7,8],\n",
    "    'criterion' :['gini', 'entropy']\n",
    "}\n",
    "\n",
    "CV_rfc = GridSearchCV(estimator = rf, param_grid = param_grid, cv= 5)\n",
    "CV_rfc.fit(X_train, y_train)\n",
    "CV_rfc.best_params_\n",
    "\n",
    "best_rf = RandomForestClassifier(**CV_rfc.best_params_)\n",
    "best_rf.fit(X_train_valid, y_train_valid)"
   ]
  },
  {
   "cell_type": "markdown",
   "metadata": {},
   "source": [
    "Building the the validation set (1/3 of the whole dataset)"
   ]
  },
  {
   "cell_type": "code",
   "execution_count": null,
   "metadata": {},
   "outputs": [],
   "source": [
    "test = pd.DataFrame()\n",
    "for i in range(int(len(files_titles)*2/3), len(files_titles)):\n",
    "    df = pd.read_csv(data_destination + '/features/' + files_titles[i], sep = ',', engine = 'python')\n",
    "    test = test.append(df)\n",
    "    \n",
    "test.set_index(['Particle ID', 'date'], inplace = True)\n",
    "test = test.dropna(how = 'any')\n",
    "\n",
    "X_test = test.iloc[:, :-1]\n",
    "y_test = test.iloc[:, -1]"
   ]
  },
  {
   "cell_type": "code",
   "execution_count": null,
   "metadata": {},
   "outputs": [],
   "source": [
    "# Label Encoding: Turns the labels into numbers\n",
    "y_test = le.transform(y_test)\n",
    "y_pred_test = best_rf.predict(X_test)\n",
    "\n",
    "# evaluate predictions\n",
    "accuracy = accuracy_score(y_valid, y_pred_valid)\n",
    "print(\"Accuracy: %.2f%%\" % (accuracy * 100.0))\n",
    "print(classification_report(y_valid, y_pred_valid, target_names=le.classes_))"
   ]
  }
 ],
 "metadata": {
  "kernelspec": {
   "display_name": "Python 3",
   "language": "python",
   "name": "python3"
  },
  "language_info": {
   "codemirror_mode": {
    "name": "ipython",
    "version": 3
   },
   "file_extension": ".py",
   "mimetype": "text/x-python",
   "name": "python",
   "nbconvert_exporter": "python",
   "pygments_lexer": "ipython3",
   "version": "3.6.5"
  }
 },
 "nbformat": 4,
 "nbformat_minor": 2
}
