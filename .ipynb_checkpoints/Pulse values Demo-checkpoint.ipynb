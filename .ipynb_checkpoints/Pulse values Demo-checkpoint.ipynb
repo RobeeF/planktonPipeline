{
 "cells": [
  {
   "cell_type": "markdown",
   "metadata": {},
   "source": [
    "# Supervised learning on Pulse Values data "
   ]
  },
  {
   "cell_type": "code",
   "execution_count": 5,
   "metadata": {},
   "outputs": [],
   "source": [
    "import numpy as np\n",
    "from sklearn.metrics import classification_report\n",
    "import random\n",
    "import os \n",
    "\n",
    "os.chdir('W:/Bureau/these/planktonPipeline/')\n",
    "\n",
    "from extract_Pulse_values.ffnn_functions import get_curves_values_data\n",
    "from keras_utils import ffnn_model, lstm_model, conv_model, plot_losses\n",
    "\n",
    "data_source = 'W:/Bureau/these/donnees_oceano/Newprocess_20190729_FLR25'\n",
    "data_destination = 'W:/Bureau/these/data'"
   ]
  },
  {
   "cell_type": "markdown",
   "metadata": {},
   "source": [
    "## Getting the preprocessed data"
   ]
  },
  {
   "cell_type": "markdown",
   "metadata": {},
   "source": [
    "Take a couple of minutes to run"
   ]
  },
  {
   "cell_type": "code",
   "execution_count": 6,
   "metadata": {},
   "outputs": [
    {
     "name": "stdout",
     "output_type": "stream",
     "text": [
      "File: 1 / 14 ( Labelled_Pulse25_2019-04-30 12h18.csv )\n",
      "File: 2 / 14 ( Labelled_Pulse25_2019-04-30 16h46.csv )\n",
      "File: 3 / 14 ( Labelled_Pulse25_2019-05-02 06h19.csv )\n",
      "File: 4 / 14 ( Labelled_Pulse25_2019-05-05 23h59.csv )\n",
      "File: 5 / 14 ( Labelled_Pulse25_2019-05-07 03h39.csv )\n",
      "File: 6 / 14 ( Labelled_Pulse25_2019-05-07 05h39.csv )\n",
      "File: 7 / 14 ( Labelled_Pulse6_2019-04-30 12h36.csv )\n",
      "File: 8 / 14 ( Labelled_Pulse6_2019-04-30 16h56.csv )\n",
      "File: 9 / 14 ( Labelled_Pulse6_2019-05-01 02h27.csv )\n",
      "File: 10 / 14 ( Labelled_Pulse6_2019-05-02 06h27.csv )\n",
      "File: 11 / 14 ( Labelled_Pulse6_2019-05-05 01h49.csv )\n",
      "File: 12 / 14 ( Labelled_Pulse6_2019-05-05 23h49.csv )\n",
      "File: 13 / 14 ( Labelled_Pulse6_2019-05-07 03h29.csv )\n",
      "File: 14 / 14 ( Labelled_Pulse6_2019-05-07 05h29.csv )\n"
     ]
    }
   ],
   "source": [
    "X, y, pid_list, le  = get_curves_values_data(data_source, data_destination, extract_curves = False)\n",
    "cluster_classes = le.classes_\n",
    "\n",
    "# Defining the parameters of the model\n",
    "train_size = int(len(y) * (2/3))\n",
    "indices = random.sample(range(len(y)), train_size)\n",
    "X_train, X_valid = X[indices], X[list(set(range(len(y))) - set(indices))] \n",
    "y_train, y_valid = y[indices], y[list(set(range(len(y))) - set(indices))]\n",
    "pid_list_train, pid_list_valid = pid_list[indices], pid_list[list(set(range(len(y))) - set(indices))]"
   ]
  },
  {
   "cell_type": "markdown",
   "metadata": {},
   "source": [
    "## Training the FFNN model"
   ]
  },
  {
   "cell_type": "code",
   "execution_count": 12,
   "metadata": {
    "scrolled": true
   },
   "outputs": [
    {
     "name": "stdout",
     "output_type": "stream",
     "text": [
      "Train on 1006 samples, validate on 504 samples\n",
      "Epoch 1/100\n",
      "32/32 [==============================] - 2s 60ms/step - loss: 3.0417 - acc: 0.2240 - val_loss: 1.8292 - val_acc: 0.2599\n",
      "Epoch 2/100\n",
      "32/32 [==============================] - 1s 16ms/step - loss: 1.6494 - acc: 0.3733 - val_loss: 1.2728 - val_acc: 0.5833\n",
      "Epoch 3/100\n",
      "32/32 [==============================] - 1s 19ms/step - loss: 1.3248 - acc: 0.5165 - val_loss: 1.0483 - val_acc: 0.6349\n",
      "Epoch 4/100\n",
      "32/32 [==============================] - 0s 13ms/step - loss: 1.1512 - acc: 0.5723 - val_loss: 0.9798 - val_acc: 0.6647\n",
      "Epoch 5/100\n",
      "32/32 [==============================] - 1s 19ms/step - loss: 1.0595 - acc: 0.5955 - val_loss: 0.9554 - val_acc: 0.6448\n",
      "Epoch 6/100\n",
      "32/32 [==============================] - 1s 23ms/step - loss: 1.0070 - acc: 0.6069 - val_loss: 0.9403 - val_acc: 0.6329\n",
      "Epoch 7/100\n",
      "32/32 [==============================] - 1s 18ms/step - loss: 0.9818 - acc: 0.6140 - val_loss: 0.8822 - val_acc: 0.6528\n",
      "Epoch 8/100\n",
      "32/32 [==============================] - 1s 16ms/step - loss: 0.9267 - acc: 0.6358 - val_loss: 0.8669 - val_acc: 0.6448\n",
      "Epoch 9/100\n",
      "32/32 [==============================] - 1s 19ms/step - loss: 0.8793 - acc: 0.6608 - val_loss: 0.7085 - val_acc: 0.7540\n",
      "Epoch 10/100\n",
      "32/32 [==============================] - 1s 17ms/step - loss: 0.7840 - acc: 0.7087 - val_loss: 0.6608 - val_acc: 0.7540\n",
      "Epoch 11/100\n",
      "32/32 [==============================] - 0s 14ms/step - loss: 0.7299 - acc: 0.7352 - val_loss: 0.6132 - val_acc: 0.8016\n",
      "Epoch 12/100\n",
      "32/32 [==============================] - 1s 19ms/step - loss: 0.6999 - acc: 0.7440 - val_loss: 0.6244 - val_acc: 0.7500\n",
      "Epoch 13/100\n",
      "32/32 [==============================] - 1s 18ms/step - loss: 0.6838 - acc: 0.7481 - val_loss: 0.5946 - val_acc: 0.7877\n",
      "Epoch 14/100\n",
      "32/32 [==============================] - 0s 13ms/step - loss: 0.6815 - acc: 0.7456 - val_loss: 0.5904 - val_acc: 0.7956\n",
      "Epoch 15/100\n",
      "32/32 [==============================] - 1s 19ms/step - loss: 0.6436 - acc: 0.7640 - val_loss: 0.5636 - val_acc: 0.8155\n",
      "Epoch 16/100\n",
      "32/32 [==============================] - 1s 18ms/step - loss: 0.6193 - acc: 0.7729 - val_loss: 0.5733 - val_acc: 0.8194\n",
      "Epoch 17/100\n",
      "32/32 [==============================] - 0s 13ms/step - loss: 0.5871 - acc: 0.7884 - val_loss: 0.5654 - val_acc: 0.8155\n",
      "Epoch 18/100\n",
      "32/32 [==============================] - 0s 14ms/step - loss: 0.5975 - acc: 0.7796 - val_loss: 0.5369 - val_acc: 0.8353\n",
      "Epoch 19/100\n",
      "32/32 [==============================] - 1s 20ms/step - loss: 0.5881 - acc: 0.7856 - val_loss: 0.4895 - val_acc: 0.8393\n",
      "Epoch 20/100\n",
      "32/32 [==============================] - 0s 15ms/step - loss: 0.5738 - acc: 0.7936 - val_loss: 0.4994 - val_acc: 0.8611\n",
      "Epoch 21/100\n",
      "32/32 [==============================] - 1s 19ms/step - loss: 0.5535 - acc: 0.8046 - val_loss: 0.4990 - val_acc: 0.8393\n",
      "Epoch 22/100\n",
      "32/32 [==============================] - 0s 16ms/step - loss: 0.5245 - acc: 0.8148 - val_loss: 0.4971 - val_acc: 0.8472\n",
      "Epoch 23/100\n",
      "32/32 [==============================] - 0s 15ms/step - loss: 0.5210 - acc: 0.8176 - val_loss: 0.4771 - val_acc: 0.8611\n",
      "Epoch 24/100\n",
      "32/32 [==============================] - 1s 21ms/step - loss: 0.4822 - acc: 0.8398 - val_loss: 0.4645 - val_acc: 0.8690\n",
      "Epoch 25/100\n",
      "32/32 [==============================] - 0s 15ms/step - loss: 0.4865 - acc: 0.8392 - val_loss: 0.4984 - val_acc: 0.8472\n",
      "Epoch 26/100\n",
      "32/32 [==============================] - 1s 19ms/step - loss: 0.5053 - acc: 0.8368 - val_loss: 0.4642 - val_acc: 0.8770\n",
      "Epoch 27/100\n",
      "32/32 [==============================] - 0s 12ms/step - loss: 0.4853 - acc: 0.8398 - val_loss: 0.4664 - val_acc: 0.8750\n",
      "Epoch 28/100\n",
      "32/32 [==============================] - 0s 15ms/step - loss: 0.4736 - acc: 0.8451 - val_loss: 0.4828 - val_acc: 0.8631\n",
      "Epoch 29/100\n",
      "32/32 [==============================] - 1s 16ms/step - loss: 0.4735 - acc: 0.8460 - val_loss: 0.4690 - val_acc: 0.8810\n",
      "Epoch 30/100\n",
      "32/32 [==============================] - 1s 16ms/step - loss: 0.4591 - acc: 0.8496 - val_loss: 0.4402 - val_acc: 0.8750\n",
      "Epoch 31/100\n",
      "32/32 [==============================] - 1s 17ms/step - loss: 0.4611 - acc: 0.8526 - val_loss: 0.5292 - val_acc: 0.8651\n",
      "Epoch 32/100\n",
      "32/32 [==============================] - 1s 20ms/step - loss: 0.4497 - acc: 0.8536 - val_loss: 0.4665 - val_acc: 0.8849\n",
      "Epoch 33/100\n",
      "32/32 [==============================] - 0s 14ms/step - loss: 0.4460 - acc: 0.8601 - val_loss: 0.4113 - val_acc: 0.8988\n",
      "Epoch 34/100\n",
      "32/32 [==============================] - 1s 19ms/step - loss: 0.4413 - acc: 0.8596 - val_loss: 0.4572 - val_acc: 0.8829\n",
      "Epoch 35/100\n",
      "32/32 [==============================] - 1s 19ms/step - loss: 0.4339 - acc: 0.8618 - val_loss: 0.4223 - val_acc: 0.8988\n",
      "Epoch 36/100\n",
      "32/32 [==============================] - 1s 16ms/step - loss: 0.4193 - acc: 0.8687 - val_loss: 0.4503 - val_acc: 0.8869\n",
      "Epoch 37/100\n",
      "32/32 [==============================] - 0s 14ms/step - loss: 0.4247 - acc: 0.8659 - val_loss: 0.4257 - val_acc: 0.8968\n",
      "Epoch 38/100\n",
      "32/32 [==============================] - 0s 12ms/step - loss: 0.3993 - acc: 0.8749 - val_loss: 0.4312 - val_acc: 0.8988\n",
      "Epoch 39/100\n",
      "32/32 [==============================] - 0s 16ms/step - loss: 0.4036 - acc: 0.8756 - val_loss: 0.4260 - val_acc: 0.8948\n",
      "Epoch 40/100\n",
      "32/32 [==============================] - 1s 18ms/step - loss: 0.4183 - acc: 0.8696 - val_loss: 0.4080 - val_acc: 0.9048\n",
      "Epoch 41/100\n",
      "32/32 [==============================] - 1s 18ms/step - loss: 0.4051 - acc: 0.8734 - val_loss: 0.4037 - val_acc: 0.9048\n",
      "Epoch 42/100\n",
      "32/32 [==============================] - 0s 14ms/step - loss: 0.3804 - acc: 0.8820 - val_loss: 0.4309 - val_acc: 0.8968\n",
      "Epoch 43/100\n",
      "32/32 [==============================] - 0s 14ms/step - loss: 0.3855 - acc: 0.8774 - val_loss: 0.4017 - val_acc: 0.9087\n",
      "Epoch 44/100\n",
      "32/32 [==============================] - 1s 18ms/step - loss: 0.3708 - acc: 0.8833 - val_loss: 0.3935 - val_acc: 0.9008\n",
      "Epoch 45/100\n",
      "32/32 [==============================] - 1s 18ms/step - loss: 0.3751 - acc: 0.8818 - val_loss: 0.4495 - val_acc: 0.8869\n",
      "Epoch 46/100\n",
      "32/32 [==============================] - 0s 14ms/step - loss: 0.3808 - acc: 0.8791 - val_loss: 0.4272 - val_acc: 0.8849\n",
      "Epoch 47/100\n",
      "32/32 [==============================] - 0s 15ms/step - loss: 0.3687 - acc: 0.8830 - val_loss: 0.4046 - val_acc: 0.8948\n",
      "Epoch 48/100\n",
      "32/32 [==============================] - 0s 13ms/step - loss: 0.3710 - acc: 0.8813 - val_loss: 0.4283 - val_acc: 0.8849\n",
      "Epoch 49/100\n",
      "32/32 [==============================] - 1s 19ms/step - loss: 0.4366 - acc: 0.8678 - val_loss: 0.4320 - val_acc: 0.8929\n",
      "Epoch 50/100\n",
      "32/32 [==============================] - 0s 15ms/step - loss: 0.4284 - acc: 0.8670 - val_loss: 0.3971 - val_acc: 0.8988\n",
      "Epoch 51/100\n",
      "32/32 [==============================] - 0s 14ms/step - loss: 0.3957 - acc: 0.8791 - val_loss: 0.4092 - val_acc: 0.8929\n",
      "Epoch 52/100\n",
      "32/32 [==============================] - 1s 16ms/step - loss: 0.3694 - acc: 0.8841 - val_loss: 0.4158 - val_acc: 0.8968\n",
      "Epoch 53/100\n",
      "32/32 [==============================] - 0s 15ms/step - loss: 0.3607 - acc: 0.8880 - val_loss: 0.4062 - val_acc: 0.8988\n",
      "Epoch 54/100\n",
      "32/32 [==============================] - 1s 19ms/step - loss: 0.3776 - acc: 0.8834 - val_loss: 0.4051 - val_acc: 0.8968\n",
      "Epoch 55/100\n",
      "32/32 [==============================] - 1s 18ms/step - loss: 0.3595 - acc: 0.8884 - val_loss: 0.4056 - val_acc: 0.9008\n",
      "Epoch 56/100\n",
      "32/32 [==============================] - 1s 16ms/step - loss: 0.3778 - acc: 0.8802 - val_loss: 0.4000 - val_acc: 0.9048\n",
      "Epoch 57/100\n",
      "32/32 [==============================] - 1s 22ms/step - loss: 0.3620 - acc: 0.8891 - val_loss: 0.3792 - val_acc: 0.9107\n",
      "Epoch 58/100\n",
      "32/32 [==============================] - 1s 16ms/step - loss: 0.3575 - acc: 0.8898 - val_loss: 0.4566 - val_acc: 0.8968\n",
      "Epoch 59/100\n",
      "32/32 [==============================] - 0s 15ms/step - loss: 0.3479 - acc: 0.8956 - val_loss: 0.4175 - val_acc: 0.9087\n",
      "Epoch 60/100\n",
      "32/32 [==============================] - 0s 14ms/step - loss: 0.3372 - acc: 0.8992 - val_loss: 0.4339 - val_acc: 0.9008\n",
      "Epoch 61/100\n",
      "32/32 [==============================] - 1s 16ms/step - loss: 0.3572 - acc: 0.8914 - val_loss: 0.4100 - val_acc: 0.8988\n",
      "Epoch 62/100\n",
      "32/32 [==============================] - 1s 31ms/step - loss: 0.3610 - acc: 0.8859 - val_loss: 0.4110 - val_acc: 0.9008\n",
      "Epoch 63/100\n",
      "32/32 [==============================] - 1s 18ms/step - loss: 0.3516 - acc: 0.8905 - val_loss: 0.4713 - val_acc: 0.8869\n",
      "Epoch 64/100\n",
      "32/32 [==============================] - 1s 22ms/step - loss: 0.3627 - acc: 0.8887 - val_loss: 0.4315 - val_acc: 0.8948\n",
      "Epoch 65/100\n",
      "32/32 [==============================] - 0s 14ms/step - loss: 0.3380 - acc: 0.8971 - val_loss: 0.4293 - val_acc: 0.9087\n",
      "Epoch 66/100\n",
      "32/32 [==============================] - 1s 18ms/step - loss: 0.3391 - acc: 0.8935 - val_loss: 0.4225 - val_acc: 0.9048\n",
      "Epoch 67/100\n",
      "32/32 [==============================] - 1s 19ms/step - loss: 0.3348 - acc: 0.8933 - val_loss: 0.4066 - val_acc: 0.8968\n",
      "Epoch 68/100\n",
      "32/32 [==============================] - 0s 14ms/step - loss: 0.3272 - acc: 0.8977 - val_loss: 0.4432 - val_acc: 0.8948\n",
      "Epoch 69/100\n",
      "32/32 [==============================] - 1s 18ms/step - loss: 0.3381 - acc: 0.8937 - val_loss: 0.3974 - val_acc: 0.9028\n",
      "Epoch 70/100\n",
      "32/32 [==============================] - 1s 17ms/step - loss: 0.3534 - acc: 0.8887 - val_loss: 0.4023 - val_acc: 0.9028\n",
      "Epoch 71/100\n",
      "32/32 [==============================] - 1s 19ms/step - loss: 0.3497 - acc: 0.8920 - val_loss: 0.4158 - val_acc: 0.9048\n",
      "Epoch 72/100\n",
      "32/32 [==============================] - 1s 17ms/step - loss: 0.3280 - acc: 0.8989 - val_loss: 0.4042 - val_acc: 0.9028\n",
      "Epoch 73/100\n",
      "32/32 [==============================] - 0s 14ms/step - loss: 0.3538 - acc: 0.8892 - val_loss: 0.4074 - val_acc: 0.9067\n",
      "Epoch 74/100\n",
      "32/32 [==============================] - 1s 19ms/step - loss: 0.3674 - acc: 0.8850 - val_loss: 0.4045 - val_acc: 0.9048\n",
      "Epoch 75/100\n",
      "32/32 [==============================] - 1s 18ms/step - loss: 0.3535 - acc: 0.8883 - val_loss: 0.4219 - val_acc: 0.8948\n",
      "Epoch 76/100\n",
      "32/32 [==============================] - 1s 22ms/step - loss: 0.3630 - acc: 0.8898 - val_loss: 0.3954 - val_acc: 0.9048\n",
      "Epoch 77/100\n",
      "32/32 [==============================] - 0s 13ms/step - loss: 0.3435 - acc: 0.8967 - val_loss: 0.3843 - val_acc: 0.9067\n",
      "Epoch 78/100\n",
      "32/32 [==============================] - 1s 18ms/step - loss: 0.3378 - acc: 0.8954 - val_loss: 0.3972 - val_acc: 0.9048\n",
      "Epoch 79/100\n",
      "32/32 [==============================] - 1s 18ms/step - loss: 0.3296 - acc: 0.8981 - val_loss: 0.4064 - val_acc: 0.8968\n",
      "Epoch 80/100\n",
      "32/32 [==============================] - 1s 16ms/step - loss: 0.3470 - acc: 0.8924 - val_loss: 0.3853 - val_acc: 0.9008\n",
      "Epoch 81/100\n",
      "32/32 [==============================] - 1s 26ms/step - loss: 0.3391 - acc: 0.8945 - val_loss: 0.3708 - val_acc: 0.9167\n",
      "Epoch 82/100\n",
      "32/32 [==============================] - 0s 10ms/step - loss: 0.3371 - acc: 0.8926 - val_loss: 0.3672 - val_acc: 0.9127\n",
      "Epoch 83/100\n",
      "32/32 [==============================] - 0s 12ms/step - loss: 0.3217 - acc: 0.8988 - val_loss: 0.4058 - val_acc: 0.9107\n",
      "Epoch 84/100\n",
      "32/32 [==============================] - 0s 14ms/step - loss: 0.3456 - acc: 0.8961 - val_loss: 0.4168 - val_acc: 0.8988\n",
      "Epoch 85/100\n",
      "32/32 [==============================] - 1s 19ms/step - loss: 0.3449 - acc: 0.8963 - val_loss: 0.4089 - val_acc: 0.9067\n",
      "Epoch 86/100\n",
      "32/32 [==============================] - 1s 18ms/step - loss: 0.3321 - acc: 0.8978 - val_loss: 0.3943 - val_acc: 0.9127\n",
      "Epoch 87/100\n",
      "32/32 [==============================] - 1s 18ms/step - loss: 0.3477 - acc: 0.8909 - val_loss: 0.4106 - val_acc: 0.8968\n",
      "Epoch 88/100\n",
      "32/32 [==============================] - 1s 17ms/step - loss: 0.3550 - acc: 0.8898 - val_loss: 0.4016 - val_acc: 0.9008\n",
      "Epoch 89/100\n",
      "32/32 [==============================] - 0s 13ms/step - loss: 0.3625 - acc: 0.8874 - val_loss: 0.4414 - val_acc: 0.8988\n",
      "Epoch 90/100\n",
      "32/32 [==============================] - 1s 17ms/step - loss: 0.3546 - acc: 0.8919 - val_loss: 0.4258 - val_acc: 0.9048\n",
      "Epoch 91/100\n",
      "32/32 [==============================] - 1s 24ms/step - loss: 0.3780 - acc: 0.8834 - val_loss: 0.4311 - val_acc: 0.8909\n",
      "Epoch 92/100\n",
      "32/32 [==============================] - 1s 17ms/step - loss: 0.3309 - acc: 0.8967 - val_loss: 0.3896 - val_acc: 0.9087\n",
      "Epoch 93/100\n",
      "32/32 [==============================] - 1s 25ms/step - loss: 0.3282 - acc: 0.8995 - val_loss: 0.3939 - val_acc: 0.9048\n",
      "Epoch 94/100\n",
      "32/32 [==============================] - 1s 23ms/step - loss: 0.3286 - acc: 0.8986 - val_loss: 0.3971 - val_acc: 0.9028\n",
      "Epoch 95/100\n",
      "32/32 [==============================] - 1s 16ms/step - loss: 0.3238 - acc: 0.9007 - val_loss: 0.4112 - val_acc: 0.8948\n",
      "Epoch 96/100\n",
      "32/32 [==============================] - 1s 16ms/step - loss: 0.3268 - acc: 0.8995 - val_loss: 0.3979 - val_acc: 0.8988\n",
      "Epoch 97/100\n",
      "32/32 [==============================] - 0s 14ms/step - loss: 0.3291 - acc: 0.8960 - val_loss: 0.4089 - val_acc: 0.9087\n",
      "Epoch 98/100\n",
      "32/32 [==============================] - 0s 15ms/step - loss: 0.3404 - acc: 0.8952 - val_loss: 0.4156 - val_acc: 0.8988\n",
      "Epoch 99/100\n",
      "32/32 [==============================] - 0s 14ms/step - loss: 0.3422 - acc: 0.8949 - val_loss: 0.3921 - val_acc: 0.9048\n",
      "Epoch 100/100\n",
      "32/32 [==============================] - 1s 18ms/step - loss: 0.3445 - acc: 0.8948 - val_loss: 0.3924 - val_acc: 0.9087\n"
     ]
    },
    {
     "data": {
      "image/png": "[encoded data removed]",
      "text/plain": [
       "<Figure size 432x288 with 1 Axes>"
      ]
     },
     "metadata": {},
     "output_type": "display_data"
    },
    {
     "data": {
      "image/png": "[encoded data removed]",
      "text/plain": [
       "<Figure size 432x288 with 1 Axes>"
      ]
     },
     "metadata": {},
     "output_type": "display_data"
    }
   ],
   "source": [
    "model = ffnn_model(X, y, dp = 0.2)\n",
    "\n",
    "batch_size = 32\n",
    "STEP_SIZE_TRAIN = (len(X_train) // batch_size) + 1 \n",
    "STEP_SIZE_VALID = (len(X_valid) // batch_size) + 1 \n",
    "\n",
    "history = model.fit(X_train, y_train, validation_data=(X_valid, y_valid), steps_per_epoch = STEP_SIZE_TRAIN, epochs = 100, validation_steps = STEP_SIZE_VALID)\n",
    "\n",
    "plot_losses(history)"
   ]
  },
  {
   "cell_type": "markdown",
   "metadata": {},
   "source": [
    "The test error is lower than the train error at the beginning because it is computed only at the end of each epoch (it is just an artifact)"
   ]
  },
  {
   "cell_type": "markdown",
   "metadata": {},
   "source": [
    "The fit is pretty encouraging"
   ]
  },
  {
   "cell_type": "code",
   "execution_count": 15,
   "metadata": {},
   "outputs": [
    {
     "name": "stdout",
     "output_type": "stream",
     "text": [
      "                    precision    recall  f1-score   support\n",
      "\n",
      "         airbubble       1.00      1.00      1.00        18\n",
      "       cryptophyte       0.89      0.79      0.84        75\n",
      "microphytoplancton       0.96      0.86      0.91        64\n",
      "     nanoeucaryote       0.78      0.95      0.86        62\n",
      "             noise       0.82      0.83      0.83        72\n",
      "     picoeucaryote       0.96      0.95      0.95        75\n",
      "   prochlorococcus       0.99      1.00      0.99        73\n",
      "     synechococcus       0.95      0.97      0.96        65\n",
      "\n",
      "       avg / total       0.91      0.91      0.91       504\n",
      "\n"
     ]
    }
   ],
   "source": [
    "preds = model.predict(X_valid)\n",
    "y_pred = np.array([np.argmax(x) for x in preds])\n",
    "y_true = np.array([np.argmax(x) for x in y_valid])\n",
    "print(classification_report(y_true, y_pred, target_names = cluster_classes))"
   ]
  },
  {
   "cell_type": "markdown",
   "metadata": {},
   "source": [
    "## Training the LSTM model"
   ]
  },
  {
   "cell_type": "code",
   "execution_count": null,
   "metadata": {},
   "outputs": [],
   "source": [
    "model = lstm_model(X, y)\n",
    "\n",
    "batch_size = 32\n",
    "STEP_SIZE_TRAIN = (len(X_train) // batch_size) + 1 \n",
    "STEP_SIZE_VALID = (len(X_valid) // batch_size) + 1 \n",
    "\n",
    "history = model.fit(X_train, y_train, validation_data=(X_valid, y_valid), steps_per_epoch = STEP_SIZE_TRAIN, epochs = 100, validation_steps = STEP_SIZE_VALID)\n",
    "\n",
    "plot_losses(history)"
   ]
  },
  {
   "cell_type": "code",
   "execution_count": null,
   "metadata": {},
   "outputs": [],
   "source": [
    "preds = model.predict(X_valid)\n",
    "y_pred = np.array([np.argmax(x) for x in preds])\n",
    "y_true = np.array([np.argmax(x) for x in y_valid])\n",
    "print(classification_report(y_true, y_pred, target_names = cluster_classes))"
   ]
  },
  {
   "cell_type": "markdown",
   "metadata": {},
   "source": [
    "## Training a CNN model"
   ]
  },
  {
   "cell_type": "code",
   "execution_count": null,
   "metadata": {},
   "outputs": [],
   "source": [
    "model = conv_model(X, y)\n",
    "\n",
    "batch_size = 32\n",
    "STEP_SIZE_TRAIN = (len(X_train) // batch_size) + 1 \n",
    "STEP_SIZE_VALID = (len(X_valid) // batch_size) + 1 \n",
    "\n",
    "history = model.fit(X_train, y_train, validation_data=(X_valid, y_valid), steps_per_epoch = STEP_SIZE_TRAIN, epochs = 100, validation_steps = STEP_SIZE_VALID)\n",
    "\n",
    "plot_losses(history)"
   ]
  },
  {
   "cell_type": "code",
   "execution_count": null,
   "metadata": {},
   "outputs": [],
   "source": [
    "preds = model.predict(X_valid)\n",
    "y_pred = np.array([np.argmax(x) for x in preds])\n",
    "y_true = np.array([np.argmax(x) for x in y_valid])\n",
    "print(classification_report(y_true, y_pred, target_names = cluster_classes))"
   ]
  }
 ],
 "metadata": {
  "kernelspec": {
   "display_name": "Python 3",
   "language": "python",
   "name": "python3"
  },
  "language_info": {
   "codemirror_mode": {
    "name": "ipython",
    "version": 3
   },
   "file_extension": ".py",
   "mimetype": "text/x-python",
   "name": "python",
   "nbconvert_exporter": "python",
   "pygments_lexer": "ipython3",
   "version": "3.6.5"
  }
 },
 "nbformat": 4,
 "nbformat_minor": 2
}
