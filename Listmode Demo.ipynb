{
 "cells": [
  {
   "cell_type": "markdown",
   "metadata": {},
   "source": [
    "# Supervised learning on Listmode data"
   ]
  },
  {
   "cell_type": "code",
   "execution_count": 16,
   "metadata": {},
   "outputs": [],
   "source": [
    "import os \n",
    "from collections import Counter\n",
    "import pandas as pd\n",
    "from sklearn.metrics import classification_report\n",
    "#from sklearn.model_selection import train_test_split\n",
    "from sklearn.metrics import accuracy_score\n",
    "from sklearn.ensemble import RandomForestClassifier\n",
    "from imblearn.over_sampling import SMOTE \n",
    "from imblearn.under_sampling import RandomUnderSampler\n",
    "from sklearn.model_selection import GridSearchCV\n",
    "from imblearn.combine import SMOTEENN\n",
    "\n",
    "\n",
    "# The directory in which you have placed the following code\n",
    "os.chdir('W:/Bureau/these/planktonPipeline/extract_Listmode')\n",
    "\n",
    "from from_cytoclus_to_files import extract_features\n",
    "from from_files_to_clusters import particle_clustering\n",
    "\n",
    "\n",
    "# Where to look the data at and where to write treated data: Change with yours\n",
    "data_source = 'W:/Bureau/these/donnees_oceano/old_process_FLR6'\n",
    "data_destination = 'W:/Bureau/these/data'\n",
    "\n",
    "seed = 42"
   ]
  },
  {
   "cell_type": "code",
   "execution_count": null,
   "metadata": {},
   "outputs": [],
   "source": [
    "extract_features(data_source, data_destination, flr_num = 6)"
   ]
  },
  {
   "cell_type": "markdown",
   "metadata": {},
   "source": [
    "## Train a supervised RandomForest on the features"
   ]
  },
  {
   "cell_type": "markdown",
   "metadata": {},
   "source": [
    "### Using classical undersampling strategy"
   ]
  },
  {
   "cell_type": "markdown",
   "metadata": {},
   "source": [
    "Building the the training and testing sets (2/3 of the whole dataset) used to determine the best model by cross-validation."
   ]
  },
  {
   "cell_type": "code",
   "execution_count": 15,
   "metadata": {},
   "outputs": [
    {
     "name": "stdout",
     "output_type": "stream",
     "text": [
      "Resampled dataset shape: \n",
      " {'cryptophytes': 135, 'microphytoplancton': 135, 'nanoeucaryote': 135, 'noise': 135, 'picoeucaryote': 135, 'prochlorococcus': 135, 'synechococcus': 135}\n"
     ]
    }
   ],
   "source": [
    "files_titles = os.listdir(data_destination + '/features')\n",
    "train_valid = pd.DataFrame()\n",
    "for i in range(int(len(files_titles)*2/3)):\n",
    "    df = pd.read_csv(data_destination + '/features/' + files_titles[i], sep = ',', engine = 'python')\n",
    "    train_valid = train_valid.append(df)\n",
    "\n",
    "train_valid.set_index(['Particle ID', 'date'], inplace = True)\n",
    "train_valid = train_valid.dropna(how = 'any')\n",
    "\n",
    "X_train_valid = train_valid.iloc[:, :-1]\n",
    "y_train_valid = train_valid.iloc[:, -1]\n",
    "        \n",
    "rus = RandomUnderSampler(random_state = seed)\n",
    "X_train_valid_rus, y_train_valid_rus = rus.fit_sample(X_train_valid, y_train_valid)\n",
    "\n",
    "print('Resampled dataset shape: \\n %s' % dict(Counter(y_train_valid_rus)))"
   ]
  },
  {
   "cell_type": "markdown",
   "metadata": {},
   "source": [
    "Finding the best tuning for the Random Forest"
   ]
  },
  {
   "cell_type": "code",
   "execution_count": 5,
   "metadata": {},
   "outputs": [
    {
     "data": {
      "text/plain": [
       "RandomForestClassifier(bootstrap=True, class_weight=None, criterion='gini',\n",
       "            max_depth=8, max_features='auto', max_leaf_nodes=None,\n",
       "            min_impurity_decrease=0.0, min_impurity_split=None,\n",
       "            min_samples_leaf=1, min_samples_split=2,\n",
       "            min_weight_fraction_leaf=0.0, n_estimators=200, n_jobs=1,\n",
       "            oob_score=False, random_state=None, verbose=0,\n",
       "            warm_start=False)"
      ]
     },
     "execution_count": 5,
     "metadata": {},
     "output_type": "execute_result"
    }
   ],
   "source": [
    "rf = RandomForestClassifier(random_state = 0, n_jobs = -1)\n",
    "\n",
    "param_grid = { \n",
    "    'n_estimators': [200, 500],\n",
    "    'max_features': ['auto', 'sqrt', 'log2'],\n",
    "    'max_depth' : [4,5,6,7,8],\n",
    "    'criterion' :['gini', 'entropy']\n",
    "}\n",
    "\n",
    "CV_rfc = GridSearchCV(estimator = rf, param_grid = param_grid, cv= 5)\n",
    "CV_rfc.fit(X_train_valid_rus, y_train_valid_rus)\n",
    "CV_rfc.best_params_\n",
    "\n",
    "best_rf = RandomForestClassifier(**CV_rfc.best_params_)\n",
    "best_rf.fit(X_train_valid_rus, y_train_valid_rus)"
   ]
  },
  {
   "cell_type": "markdown",
   "metadata": {},
   "source": [
    "Building the the validation set (1/3 of the whole dataset)"
   ]
  },
  {
   "cell_type": "code",
   "execution_count": 6,
   "metadata": {},
   "outputs": [],
   "source": [
    "test = pd.DataFrame()\n",
    "for i in range(int(len(files_titles)*2/3), len(files_titles)):\n",
    "    df = pd.read_csv(data_destination + '/features/' + files_titles[i], sep = ',', engine = 'python')\n",
    "    test = test.append(df)\n",
    "    \n",
    "test.set_index(['Particle ID', 'date'], inplace = True)\n",
    "test = test.dropna(how = 'any')\n",
    "\n",
    "X_test = test.iloc[:, :-1]\n",
    "y_test = test.iloc[:, -1]"
   ]
  },
  {
   "cell_type": "code",
   "execution_count": 8,
   "metadata": {},
   "outputs": [
    {
     "name": "stdout",
     "output_type": "stream",
     "text": [
      "Accuracy: 94.61%\n",
      "                    precision    recall  f1-score   support\n",
      "\n",
      "      cryptophytes       0.21      0.91      0.34       153\n",
      "microphytoplancton       0.65      1.00      0.79        52\n",
      "     nanoeucaryote       0.71      0.96      0.82      1228\n",
      "             noise       1.00      0.78      0.88     13013\n",
      "     picoeucaryote       0.59      0.83      0.69      1745\n",
      "   prochlorococcus       0.35      1.00      0.52       378\n",
      "     synechococcus       0.98      0.99      0.99     48254\n",
      "\n",
      "       avg / total       0.97      0.95      0.95     64823\n",
      "\n"
     ]
    }
   ],
   "source": [
    "y_pred_test = best_rf.predict(X_test)\n",
    "\n",
    "# evaluate predictions\n",
    "accuracy = accuracy_score(y_test, y_pred_test)\n",
    "print(\"Accuracy: %.2f%%\" % (accuracy * 100.0))\n",
    "print(classification_report(y_test, y_pred_test))"
   ]
  },
  {
   "cell_type": "markdown",
   "metadata": {},
   "source": [
    "### Using SMOTEEN sampling strategy"
   ]
  },
  {
   "cell_type": "code",
   "execution_count": 17,
   "metadata": {},
   "outputs": [
    {
     "name": "stdout",
     "output_type": "stream",
     "text": [
      "Resampled dataset shape: \n",
      " {'cryptophytes': 229303, 'microphytoplancton': 229636, 'nanoeucaryote': 228579, 'noise': 211732, 'picoeucaryote': 229070, 'prochlorococcus': 190108, 'synechococcus': 223451}\n"
     ]
    }
   ],
   "source": [
    "sm = SMOTEENN(random_state = seed)\n",
    "X_train_valid_smote, y_train_valid_smote = sm.fit_sample(X_train_valid, y_train_valid)\n",
    "print('Resampled dataset shape: \\n %s' % dict(Counter(y_train_valid_smote)))"
   ]
  },
  {
   "cell_type": "code",
   "execution_count": 23,
   "metadata": {},
   "outputs": [],
   "source": [
    "# Keep only 7 * 5,000 observations to keep it manageable\n",
    "balance_dict = {k: 5000 for k in set(y_train_valid_smote)}\n",
    "\n",
    "rus = RandomUnderSampler(random_state = seed, ratio = balance_dict)\n",
    "X_train_valid_smote, y_train_valid_smote = rus.fit_sample(X_train_valid_smote, y_train_valid_smote)"
   ]
  },
  {
   "cell_type": "code",
   "execution_count": 24,
   "metadata": {},
   "outputs": [
    {
     "data": {
      "text/plain": [
       "RandomForestClassifier(bootstrap=True, class_weight=None, criterion='entropy',\n",
       "            max_depth=8, max_features='auto', max_leaf_nodes=None,\n",
       "            min_impurity_decrease=0.0, min_impurity_split=None,\n",
       "            min_samples_leaf=1, min_samples_split=2,\n",
       "            min_weight_fraction_leaf=0.0, n_estimators=200, n_jobs=1,\n",
       "            oob_score=False, random_state=None, verbose=0,\n",
       "            warm_start=False)"
      ]
     },
     "execution_count": 24,
     "metadata": {},
     "output_type": "execute_result"
    }
   ],
   "source": [
    "rf = RandomForestClassifier(random_state = 0, n_jobs = -1)\n",
    "\n",
    "CV_rfc = GridSearchCV(estimator = rf, param_grid = param_grid, cv= 5)\n",
    "CV_rfc.fit(X_train_valid_smote, y_train_valid_smote)\n",
    "CV_rfc.best_params_\n",
    "\n",
    "best_rf = RandomForestClassifier(**CV_rfc.best_params_)\n",
    "best_rf.fit(X_train_valid_smote, y_train_valid_smote)"
   ]
  },
  {
   "cell_type": "code",
   "execution_count": 26,
   "metadata": {},
   "outputs": [
    {
     "name": "stdout",
     "output_type": "stream",
     "text": [
      "Accuracy: 97.65%\n",
      "                    precision    recall  f1-score   support\n",
      "\n",
      "      cryptophytes       0.45      0.92      0.60       153\n",
      "microphytoplancton       0.75      0.94      0.84        52\n",
      "     nanoeucaryote       0.78      0.97      0.87      1228\n",
      "             noise       1.00      0.91      0.95     13013\n",
      "     picoeucaryote       0.88      0.87      0.87      1745\n",
      "   prochlorococcus       0.79      1.00      0.88       378\n",
      "     synechococcus       0.99      1.00      0.99     48254\n",
      "\n",
      "       avg / total       0.98      0.98      0.98     64823\n",
      "\n"
     ]
    }
   ],
   "source": [
    "y_pred_test = best_rf.predict(X_test)\n",
    "\n",
    "# evaluate predictions\n",
    "accuracy = accuracy_score(y_test, y_pred_test)\n",
    "print(\"Accuracy: %.2f%%\" % (accuracy * 100.0))\n",
    "print(classification_report(y_test, y_pred_test))"
   ]
  },
  {
   "cell_type": "markdown",
   "metadata": {},
   "source": [
    "Results seem to be better with SMOTEEN.\n",
    "\n",
    "Note that the total average precision of 98% only stems from the fact that the test set is very imbalanced and that the model performs good on very represented classes"
   ]
  }
 ],
 "metadata": {
  "kernelspec": {
   "display_name": "Python 3",
   "language": "python",
   "name": "python3"
  },
  "language_info": {
   "codemirror_mode": {
    "name": "ipython",
    "version": 3
   },
   "file_extension": ".py",
   "mimetype": "text/x-python",
   "name": "python",
   "nbconvert_exporter": "python",
   "pygments_lexer": "ipython3",
   "version": "3.6.5"
  }
 },
 "nbformat": 4,
 "nbformat_minor": 2
}
